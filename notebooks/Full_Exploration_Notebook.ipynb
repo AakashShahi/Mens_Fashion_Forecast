{
 "cells": [
  {
   "cell_type": "markdown",
   "id": "e51a8618",
   "metadata": {},
   "source": [
    "# Kathmandu Youth Fashion Forecaster — EDA & Starter Notebook\n",
    "\n",
    "This notebook helps you explore the synthetic 1-year datasets (sales, social, Google Trends), clean and filter to the cohort (Kathmandu, male, ages ~17–25), visualize seasonality, extract hashtags, merge trends, and run a quick Prophet demo for one category.\n",
    "\n",
    "Place this notebook in your project root `MENS_FASHION_FORECAST/notebooks/` so the `data/` folder is at the same level."
   ]
  },
  {
   "cell_type": "code",
   "execution_count": 1,
   "id": "f70ac7c9",
   "metadata": {},
   "outputs": [
    {
     "name": "stdout",
     "output_type": "stream",
     "text": [
      "Python executable: c:\\Users\\shahi\\Desktop\\Final Year plan\\Mens_Fashion_Forecast\\venv\\Scripts\\python.exe\n",
      "Working dir: c:\\Users\\shahi\\Desktop\\Final Year plan\\Mens_Fashion_Forecast\\notebooks\n",
      "\n",
      "Files in data/:\n",
      "- .gitignore\n",
      "- google_trends_1yr_nepal.csv\n",
      "- sales_data_1yr_nepal.csv\n",
      "- social_media_1yr_nepal.csv\n"
     ]
    }
   ],
   "source": [
    "# 0. Setup - run once\n",
    "import os, sys\n",
    "import pandas as pd\n",
    "import numpy as np\n",
    "import matplotlib.pyplot as plt\n",
    "import seaborn as sns\n",
    "\n",
    "print(\"Python executable:\", sys.executable)\n",
    "print(\"Working dir:\", os.getcwd())\n",
    "print(\"\\nFiles in data/:\")\n",
    "for f in sorted(os.listdir(\"../data\") if os.path.exists(\"../data\") else os.listdir(\"data\")):\n",
    "    print(\"-\", f)\n"
   ]
  }
 ],
 "metadata": {
  "kernelspec": {
   "display_name": "venv",
   "language": "python",
   "name": "python3"
  },
  "language_info": {
   "codemirror_mode": {
    "name": "ipython",
    "version": 3
   },
   "file_extension": ".py",
   "mimetype": "text/x-python",
   "name": "python",
   "nbconvert_exporter": "python",
   "pygments_lexer": "ipython3",
   "version": "3.13.5"
  }
 },
 "nbformat": 4,
 "nbformat_minor": 5
}
